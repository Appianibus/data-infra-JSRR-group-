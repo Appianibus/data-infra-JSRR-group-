{
 "cells": [
  {
   "cell_type": "markdown",
   "id": "92645b8e",
   "metadata": {},
   "source": [
    "## SIMPLE REQUESTS EXAMPLES.  \n",
    "This is the overhead, defining the headers, the payload and the uri."
   ]
  },
  {
   "cell_type": "code",
   "execution_count": null,
   "id": "efac0372",
   "metadata": {},
   "outputs": [],
   "source": [
    "import requests\n",
    "import json\n",
    "\n",
    "# Base URL of the public test API\n",
    "BASE_URL = \"https://jsonplaceholder.typicode.com/posts\"\n",
    "\n",
    "# Example headers (often used for REST APIs)\n",
    "headers = {\n",
    "    \"Content-Type\": \"application/json\",\n",
    "    \"User-Agent\": \"advance-python-small-client/1.0\"\n",
    "}\n",
    "\n",
    "# Example payload for POST and PUT\n",
    "payload = {\n",
    "    \"title\": \"This is the TITLE\",\n",
    "    \"body\": \"This is a NEW DATA!\",\n",
    "    \"userId\": 1\n",
    "}"
   ]
  },
  {
   "cell_type": "markdown",
   "id": "b9c8e315",
   "metadata": {},
   "source": [
    "### This is the first, and most used, type of requests: GET\n",
    "Let's discuss a little about parameters, headers and nodes..."
   ]
  },
  {
   "cell_type": "code",
   "execution_count": 10,
   "id": "6d35a43c",
   "metadata": {},
   "outputs": [
    {
     "name": "stdout",
     "output_type": "stream",
     "text": [
      "GET -> \n",
      "Status: 200\n",
      "First post title: sunt aut facere repellat provident occaecati excepturi optio reprehenderit\n"
     ]
    }
   ],
   "source": [
    "print(\"GET -> \")\n",
    "response = requests.get(BASE_URL, headers=headers, params={\"userId\": 1})\n",
    "print(\"Status:\", response.status_code)\n",
    "print(\"First post title:\", response.json()[0][\"title\"])"
   ]
  },
  {
   "cell_type": "markdown",
   "id": "82b4e339",
   "metadata": {},
   "source": [
    "### This is the second type of requests, POST, we use it to feed data from the client to the server\n",
    "Note that here we have a payload"
   ]
  },
  {
   "cell_type": "code",
   "execution_count": 6,
   "id": "24720cc8",
   "metadata": {},
   "outputs": [
    {
     "name": "stdout",
     "output_type": "stream",
     "text": [
      "POST ->\n",
      "Status: 201\n",
      "Response JSON: {'title': 'This is the TITLE', 'body': 'This is a body', 'userId': 1, 'id': 101}\n"
     ]
    }
   ],
   "source": [
    "print(\"POST ->\")\n",
    "response = requests.post(BASE_URL, headers=headers, data=json.dumps(payload))\n",
    "print(\"Status:\", response.status_code)\n",
    "print(\"Response JSON:\", response.json())"
   ]
  },
  {
   "cell_type": "markdown",
   "id": "73f27184",
   "metadata": {},
   "source": [
    "### PUT is the \"UPDATE\" requests, we have some data, we need to change it\n",
    "Remember that changes are data manipulation, be wary of those."
   ]
  },
  {
   "cell_type": "code",
   "execution_count": 11,
   "id": "3fa7e877",
   "metadata": {},
   "outputs": [
    {
     "name": "stdout",
     "output_type": "stream",
     "text": [
      "PUT -> \n",
      "https://jsonplaceholder.typicode.com/posts/1\n",
      "Status: 200\n",
      "Response JSON: {'title': 'New updated TITLE', 'body': 'This is a body', 'userId': 1, 'id': 1}\n"
     ]
    }
   ],
   "source": [
    "print(\"PUT -> \")\n",
    "post_id = 1\n",
    "updated_payload = payload.copy()\n",
    "updated_payload[\"title\"] = \"New updated TITLE\"\n",
    "response = requests.put(f\"{BASE_URL}/{post_id}\", headers=headers, data=json.dumps(updated_payload))\n",
    "print(f\"{BASE_URL}/{post_id}\")\n",
    "print(\"Status:\", response.status_code)\n",
    "print(\"Response JSON:\", response.json())"
   ]
  },
  {
   "cell_type": "markdown",
   "id": "66a5c12d",
   "metadata": {},
   "source": [
    "### DELETE... deletes data, it is a delicate operation\n",
    "As with PUT, data manipulation need an authorization, put on the header, in this example we ignore it, as it is a test server."
   ]
  },
  {
   "cell_type": "code",
   "execution_count": 12,
   "id": "81b37015",
   "metadata": {},
   "outputs": [
    {
     "name": "stdout",
     "output_type": "stream",
     "text": [
      "DELETE -> \n",
      "Status: 200\n",
      "Response Text: {}\n"
     ]
    }
   ],
   "source": [
    "print(\"DELETE -> \")\n",
    "response = requests.delete(f\"{BASE_URL}/{post_id}\", headers=headers)\n",
    "print(\"Status:\", response.status_code)\n",
    "print(\"Response Text:\", response.text or \"No content returned.\")"
   ]
  }
 ],
 "metadata": {
  "kernelspec": {
   "display_name": "Advanced Python 2025 NEW kernel",
   "language": "python",
   "name": "advanced-python-kernel"
  },
  "language_info": {
   "codemirror_mode": {
    "name": "ipython",
    "version": 3
   },
   "file_extension": ".py",
   "mimetype": "text/x-python",
   "name": "python",
   "nbconvert_exporter": "python",
   "pygments_lexer": "ipython3",
   "version": "3.13.7"
  }
 },
 "nbformat": 4,
 "nbformat_minor": 5
}
