{
 "cells": [
  {
   "cell_type": "markdown",
   "metadata": {
    "id": "UY1rNjcqeJpa"
   },
   "source": [
    "**API Requests**.   \n",
    "Course: *Advanced Python MDMC Couse 2025*.    \n",
    "Author: *Marco Prenassi*.   \n",
    "Licence: *CC BY 4.0 (http://creativecommons.org/licenses/by/4.0)*\n",
    "#  NAVIGATING DATABANKS - RCSB AND NIH BLAST"
   ]
  },
  {
   "cell_type": "markdown",
   "metadata": {
    "id": "QgiqW5iKoIxc"
   },
   "source": [
    "## RCSB\n",
    "### QUERIES\n",
    "*Let's create a search query using https://www.rcsb.org/docs/programmatic-access/web-services-overview#search-api*.   \n",
    "*Focusing on a single methodology: \"Electron Microscopy\" and that include, in the text, Atomic Force [Microscopy]*.   \n",
    "*Through request_options: paginate, we select only the first 10 rows*.   \n",
    "*And we request entries as a return type, so we expect the protein ID of RCSB*"
   ]
  },
  {
   "cell_type": "code",
   "execution_count": 1,
   "metadata": {
    "id": "c3G2bHF9p9TV"
   },
   "outputs": [],
   "source": [
    "query_str = '''\n",
    "{\n",
    "  \"query\": {\n",
    "    \"type\": \"group\",\n",
    "    \"logical_operator\": \"and\",\n",
    "    \"nodes\": [\n",
    "        {\n",
    "          \"type\": \"terminal\",\n",
    "          \"service\": \"full_text\",\n",
    "          \"parameters\": {\n",
    "          \"value\": \"ATOMIC FORCE\"\n",
    "        }\n",
    "      },\n",
    "      {\n",
    "        \"type\": \"terminal\",\n",
    "        \"service\": \"text\",\n",
    "        \"parameters\": {\n",
    "          \"attribute\": \"exptl.method\",\n",
    "          \"operator\": \"exact_match\",\n",
    "          \"value\": \"ELECTRON MICROSCOPY\"\n",
    "        }\n",
    "      }\n",
    "    ]\n",
    "  },\n",
    "  \"request_options\": {\n",
    "    \"paginate\": {\n",
    "      \"start\": 0,\n",
    "      \"rows\": 10\n",
    "    }\n",
    "  },\n",
    "  \"return_type\": \"entry\"\n",
    "}\n",
    "'''"
   ]
  },
  {
   "cell_type": "markdown",
   "metadata": {
    "id": "0VZoRdWHeII0"
   },
   "source": []
  },
  {
   "cell_type": "markdown",
   "metadata": {
    "id": "0mrBqkP4pOqi"
   },
   "source": [
    "### REQUESTS\n",
    "*We use the module* **requests** *using a POST request to send the query to the API REST interface of rcsb (https://search.rcsb.org/redoc/index.html)*    \n",
    "*The response of our query contains statistical data (number of rows, and pages) and also the first ten results*.  "
   ]
  },
  {
   "cell_type": "code",
   "execution_count": 2,
   "metadata": {
    "colab": {
     "base_uri": "https://localhost:8080/"
    },
    "executionInfo": {
     "elapsed": 880,
     "status": "ok",
     "timestamp": 1731575075110,
     "user": {
      "displayName": "Marco Prenassi",
      "userId": "16053845400152448829"
     },
     "user_tz": -60
    },
    "id": "NH8Wtu-lqgAL",
    "outputId": "8ee5e6cc-01b5-40dc-cd2f-4ce68a08dc59"
   },
   "outputs": [
    {
     "name": "stdout",
     "output_type": "stream",
     "text": [
      "rows: 14 pages: 2\n",
      "{'identifier': '7W9W', 'score': 0.8362893446434844}\n"
     ]
    }
   ],
   "source": [
    "\n",
    "import json\n",
    "import requests\n",
    "ROW_COUNT = 10\n",
    "# Load the query string/JSON into a PYTHON dictionary\n",
    "query = json.loads(query_str)\n",
    "query['request_options']['paginate']['rows'] = ROW_COUNT\n",
    "\n",
    "# Post our query to the system\n",
    "result = requests.post('https://search.rcsb.org/rcsbsearch/v2/query',json=query)\n",
    "# If you want to know the total number of pages (e.g., to do an automated extraction)\n",
    "PAGE_MAX = result.json()['total_count']//ROW_COUNT + 1\n",
    "\n",
    "print(\"rows: \" + str(result.json()['total_count']) + \" pages: \" + str(PAGE_MAX))\n",
    "# Let's select the first result:\n",
    "print(result.json()['result_set'][0])\n"
   ]
  },
  {
   "cell_type": "markdown",
   "metadata": {
    "id": "6MpyhqioqxAx"
   },
   "source": [
    "### GET THE PROTEIN\n",
    "*Here we use the \"GET\" request to acquire more precise information about the entry in RCSB, using the IDENTIFIER as a guide to the right URL*.   "
   ]
  },
  {
   "cell_type": "code",
   "execution_count": 3,
   "metadata": {
    "colab": {
     "base_uri": "https://localhost:8080/"
    },
    "executionInfo": {
     "elapsed": 683,
     "status": "ok",
     "timestamp": 1731575092737,
     "user": {
      "displayName": "Marco Prenassi",
      "userId": "16053845400152448829"
     },
     "user_tz": -60
    },
    "id": "27AeAixqrmA0",
    "outputId": "6fca74a7-68c8-495b-f24b-c1cb4a0ac3eb"
   },
   "outputs": [
    {
     "name": "stdout",
     "output_type": "stream",
     "text": [
      "We get a lot of data (and still, is not everything): \n",
      "\t - audit_author: [{'identifier_orcid': '0000-0002-5887-0055', 'name.......\n",
      "\t - citation: [{'id': 'primary', 'journal_abbrev': 'Cell', 'jour.......\n",
      "\t - database2: [{'database_code': '7W9W', 'database_id': 'PDB', '.......\n",
      "\t - em3d_fitting: [{'id': '1'}].......\n",
      "\t - em3d_reconstruction: [{'id': '1', 'image_processing_id': '1', 'num_part.......\n",
      "\t - em_ctf_correction: [{'em_image_processing_id': '1', 'id': '1', 'type'.......\n",
      "\t - em_entity_assembly: [{'entity_id_list': ['1'], 'id': '1', 'name': 'ChR.......\n",
      "\t - em_experiment: {'aggregation_state': 'PARTICLE', 'entity_assembly.......\n",
      "\t - em_image_recording: [{'avg_electron_dose_per_image': 51.533, 'film_or_.......\n",
      "\t - em_imaging: [{'accelerating_voltage': 300, 'electron_source': .......\n",
      "\t - em_single_particle_entity: [{'id': 1, 'image_processing_id': '1', 'point_symm.......\n",
      "\t - em_software: [{'category': 'PARTICLE SELECTION', 'id': '1', 'im.......\n",
      "\t - em_specimen: [{'embedding_applied': 'NO', 'experiment_id': '1',.......\n",
      "\t - em_vitrification: [{'chamber_temperature': 277.0, 'cryogen_name': 'E.......\n",
      "\t - entry: {'id': '7W9W'}.......\n",
      "\t - exptl: [{'method': 'ELECTRON MICROSCOPY'}].......\n",
      "\t - pdbx_audit_revision_category: [{'category': 'citation', 'data_content_type': 'St.......\n",
      "\t - pdbx_audit_revision_details: [{'data_content_type': 'Structure model', 'ordinal.......\n",
      "\t - pdbx_audit_revision_group: [{'data_content_type': 'Structure model', 'group':.......\n",
      "\t - pdbx_audit_revision_history: [{'data_content_type': 'Structure model', 'major_r.......\n",
      "\t - pdbx_audit_revision_item: [{'data_content_type': 'Structure model', 'item': .......\n",
      "\t - pdbx_audit_support: [{'country': 'Japan', 'funding_organization': 'Jap.......\n",
      "\t - pdbx_database_related: [{'content_type': 'associated EM volume', 'db_id':.......\n",
      "\t - pdbx_database_status: {'deposit_site': 'PDBJ', 'pdb_format_compatible': .......\n",
      "\t - pdbx_vrpt_summary: {'attempted_validation_steps': 'visualanalysis,mol.......\n",
      "\t - pdbx_vrpt_summary_em: [{'atom_inclusion_all_atoms': 0.9, 'atom_inclusion.......\n",
      "\t - pdbx_vrpt_summary_geometry: [{'angles_rmsz': 0.96, 'bonds_rmsz': 0.72, 'clashs.......\n",
      "\t - rcsb_accession_info: {'deposit_date': '2021-12-11T00:00:00+0000', 'has_.......\n",
      "\t - rcsb_entry_container_identifiers: {'assembly_ids': ['1'], 'emdb_ids': ['EMD-32377'],.......\n",
      "\t - rcsb_entry_info: {'assembly_count': 1, 'branched_entity_count': 0, .......\n",
      "\t - rcsb_external_references: [{'id': 'EMD-32377', 'link': 'https://www.emdatare.......\n",
      "\t - rcsb_primary_citation: {'id': 'primary', 'journal_abbrev': 'Cell', 'journ.......\n",
      "\t - refine_ls_restr: [{'dev_ideal': 0.008, 'dev_ideal_target': 0.013, '.......\n",
      "\t - struct: {'pdbx_caspflag': 'N', 'title': '2.02 angstrom cry.......\n",
      "\t - struct_keywords: {'pdbx_keywords': 'MEMBRANE PROTEIN', 'text': 'cha.......\n",
      "\t - rcsb_id: 7W9W.......\n",
      "\n",
      " Let's focus on the last bit of information:\n",
      "[{'id': 'EMD-32377', 'link': 'https://www.emdataresource.org/EMD-32377', 'type': 'EM DATA RESOURCE'}]\n"
     ]
    }
   ],
   "source": [
    "identifier = result.json()['result_set'][0]['identifier']\n",
    "data = requests.get(f'https://data.rcsb.org/rest/v1/core/entry/{identifier}').json()\n",
    "print(\"We get a lot of data (and still, is not everything): \")\n",
    "for labels in data:\n",
    "  print(\"\\t - \"+ labels + \": \" + str(data[labels])[:50] + \".......\")\n",
    "print('\\n Let\\'s focus on the last bit of information:')\n",
    "print(data['rcsb_external_references'])\n",
    "\n"
   ]
  },
  {
   "cell_type": "markdown",
   "metadata": {
    "id": "FTl6_x_HrzUx"
   },
   "source": []
  },
  {
   "cell_type": "markdown",
   "metadata": {
    "id": "s84XE2S5r0vX"
   },
   "source": [
    "### GET THE PROTEIN CCP4 MAP\n",
    "*We have found the reference of the EM images, now we are going to acquire them*"
   ]
  },
  {
   "cell_type": "code",
   "execution_count": 4,
   "metadata": {
    "colab": {
     "base_uri": "https://localhost:8080/"
    },
    "executionInfo": {
     "elapsed": 360,
     "status": "ok",
     "timestamp": 1731575108052,
     "user": {
      "displayName": "Marco Prenassi",
      "userId": "16053845400152448829"
     },
     "user_tz": -60
    },
    "id": "XRqvzmwvs34c",
    "outputId": "2ec0dbf4-be48-4f2e-ae0e-b605d7572a9b"
   },
   "outputs": [
    {
     "name": "stdout",
     "output_type": "stream",
     "text": [
      "EMD-32377\n"
     ]
    }
   ],
   "source": [
    "# Let's extract the emd reference id:\n",
    "emd_id = data['rcsb_external_references'][0]['id']\n",
    "print(emd_id)"
   ]
  },
  {
   "cell_type": "markdown",
   "metadata": {
    "id": "SFtEwzULsUY4"
   },
   "source": [
    "*Here we use the RCSB file server (files.rcsb.org) to get our image*\n"
   ]
  },
  {
   "cell_type": "code",
   "execution_count": 5,
   "metadata": {
    "colab": {
     "base_uri": "https://localhost:8080/"
    },
    "executionInfo": {
     "elapsed": 911,
     "status": "ok",
     "timestamp": 1731575114869,
     "user": {
      "displayName": "Marco Prenassi",
      "userId": "16053845400152448829"
     },
     "user_tz": -60
    },
    "id": "VoChZK_ZQGds",
    "outputId": "24c0156c-4dd0-46c1-fcdf-5143f7529f32"
   },
   "outputs": [
    {
     "name": "stdout",
     "output_type": "stream",
     "text": [
      "EMD-32377\n",
      "emd_32377\n"
     ]
    }
   ],
   "source": [
    "# A little string manipulation to fit the path on the file server\n",
    "# the emd_file_id (aka the filename) is written like this: emd_number.map.gz,\n",
    "# while the emd_id is written as EMD-number, so we have to adapt the two strings\n",
    "# it is a trivial but importan job\n",
    "print(emd_id)\n",
    "emd_file_id = emd_id.split('-')[1]\n",
    "emd_file_id = \"emd_\" + emd_file_id\n",
    "# Let's check if it is all right\n",
    "print(emd_file_id)\n",
    "# And proceed to make the request\n",
    "data = requests.get(f'https://files.rcsb.org/pub/emdb/structures/{emd_id}/map/{emd_file_id}.map.gz')\n",
    "# At the end we are going to save the file locally in a .map.gz file\n",
    "with open(f'{emd_file_id}.map.gz', 'wb') as fp:\n",
    "    fp.write(data.content)\n"
   ]
  },
  {
   "cell_type": "code",
   "execution_count": 6,
   "metadata": {
    "id": "jvTqrCKMQHpH"
   },
   "outputs": [],
   "source": [
    "# .map.gz is a compressed file, we must uncompress it with gzip\n",
    "import gzip\n",
    "import shutil\n",
    "\n",
    "with gzip.open(f'{emd_file_id}.map.gz', 'rb') as fp:\n",
    "  with open(f'{emd_file_id}.map', 'wb') as out:\n",
    "    shutil.copyfileobj(fp, out)\n",
    "# Ok, now we have a .map [ccp4] file!"
   ]
  },
  {
   "cell_type": "code",
   "execution_count": 7,
   "metadata": {
    "colab": {
     "base_uri": "https://localhost:8080/"
    },
    "executionInfo": {
     "elapsed": 3735,
     "status": "ok",
     "timestamp": 1731575142898,
     "user": {
      "displayName": "Marco Prenassi",
      "userId": "16053845400152448829"
     },
     "user_tz": -60
    },
    "id": "jRyL3ObWj_Vc",
    "outputId": "64c700a8-1ff2-4e09-f003-0def51271ced"
   },
   "outputs": [
    {
     "name": "stdout",
     "output_type": "stream",
     "text": [
      "Collecting gemmi\n",
      "  Downloading gemmi-0.7.3-cp313-cp313-macosx_11_0_arm64.whl.metadata (2.3 kB)\n",
      "Downloading gemmi-0.7.3-cp313-cp313-macosx_11_0_arm64.whl (2.3 MB)\n",
      "\u001b[2K   \u001b[90m━━━━━━━━━━━━━━━━━━━━━━━━━━━━━━━━━━━━━━━━\u001b[0m \u001b[32m2.3/2.3 MB\u001b[0m \u001b[31m7.9 MB/s\u001b[0m  \u001b[33m0:00:00\u001b[0m eta \u001b[36m0:00:01\u001b[0m\n",
      "\u001b[?25hInstalling collected packages: gemmi\n",
      "Successfully installed gemmi-0.7.3\n"
     ]
    }
   ],
   "source": [
    "# Let's install gemmi, a tool to read those files https://gemmi.readthedocs.io/en/latest/\n",
    "!pip install gemmi"
   ]
  },
  {
   "cell_type": "code",
   "execution_count": 8,
   "metadata": {
    "id": "sfnE5OEljn71"
   },
   "outputs": [],
   "source": [
    "# And read our file\n",
    "import gemmi\n",
    "ccp4_map = gemmi.read_ccp4_map(f'{emd_file_id}.map')\n",
    "xmap = ccp4_map.grid\n",
    "#ccp4_map.setup(float('nan'))\n"
   ]
  },
  {
   "cell_type": "code",
   "execution_count": 10,
   "metadata": {
    "colab": {
     "base_uri": "https://localhost:8080/",
     "height": 472
    },
    "executionInfo": {
     "elapsed": 1324,
     "status": "ok",
     "timestamp": 1731575154398,
     "user": {
      "displayName": "Marco Prenassi",
      "userId": "16053845400152448829"
     },
     "user_tz": -60
    },
    "id": "TctyF0mHoLMP",
    "outputId": "ffefdf56-30b7-4346-8cec-03dd2c61d7cc"
   },
   "outputs": [
    {
     "data": {
      "image/png": "[encoded data removed]",
      "text/plain": [
       "<Figure size 640x480 with 2 Axes>"
      ]
     },
     "metadata": {},
     "output_type": "display_data"
    }
   ],
   "source": [
    "# Let's use matplotlib to plot this file, I was lazy and I asked the AI to do it for me,\n",
    "# it worked!\n",
    "# prompt: height map with matplotlib of xmap\n",
    "\n",
    "import matplotlib.pyplot as plt\n",
    "\n",
    "# Select a slice along the z-axis (e.g., the middle slice)\n",
    "slice_index = xmap.array.shape[0] // 2  # Get the middle index along the first axis\n",
    "slice_data = xmap.array[slice_index, :, :] # Select the slice\n",
    "\n",
    "plt.imshow(slice_data, cmap='viridis')  # Plot the 2D slice\n",
    "plt.colorbar(label='Density')\n",
    "plt.title('Height Map of xmap (Slice)')\n",
    "plt.xlabel('X')\n",
    "plt.ylabel('Y')\n",
    "plt.show()"
   ]
  },
  {
   "cell_type": "markdown",
   "metadata": {
    "id": "_n1wbMJTtoi8"
   },
   "source": [
    "## BLAST\n",
    "### RCSB SEQUENCE RETRIEVAL\n",
    "*In our first request we did not have the protein sequence, let's retrieve it with a request to a different service of the DATA API of RCSB*.   "
   ]
  },
  {
   "cell_type": "code",
   "execution_count": 11,
   "metadata": {
    "colab": {
     "base_uri": "https://localhost:8080/"
    },
    "executionInfo": {
     "elapsed": 1292,
     "status": "ok",
     "timestamp": 1729838429634,
     "user": {
      "displayName": "Marco Prenassi",
      "userId": "16053845400152448829"
     },
     "user_tz": -120
    },
    "id": "YIKgptmSePYF",
    "outputId": "282f084e-00dd-488a-83cb-90b0c6c702e1"
   },
   "outputs": [
    {
     "name": "stdout",
     "output_type": "stream",
     "text": [
      "RCSB protein id: 7W9W\n",
      "entity_poly: {'nstd_linkage': 'no', 'nstd_monomer': 'no', 'pdbx_seq_one_letter_code': 'GPMAHAPGTDQMFYVGTMDGWYLDTKLNSVAIGAHWSCFIVLTITTFYLGYESWTSRGPSKRTSFYAGYQEEQNLALFVNFFAMLSYFGKIVADTLGHNFGDVGPFIIGFGNYRYADYMLTCPMLVYDLLYQLRAPYRVSCSAIIFAILMSGVLAEFYAEGDPRLRNGAYAWYGFGCFWFIFAYSIVMSIVAKQYSRLAQLAQDTGAEHSLHVLKFAVFTFSMLWILFPLVWAICPRGFGWIDDNWTEVAHCVCDIVAKSCYGFALARFRKTYDEELFRLLEQLGHDEDEFQKLELDMRLSSNGERLEVLFQ', 'pdbx_seq_one_letter_code_can': 'GPMAHAPGTDQMFYVGTMDGWYLDTKLNSVAIGAHWSCFIVLTITTFYLGYESWTSRGPSKRTSFYAGYQEEQNLALFVNFFAMLSYFGKIVADTLGHNFGDVGPFIIGFGNYRYADYMLTCPMLVYDLLYQLRAPYRVSCSAIIFAILMSGVLAEFYAEGDPRLRNGAYAWYGFGCFWFIFAYSIVMSIVAKQYSRLAQLAQDTGAEHSLHVLKFAVFTFSMLWILFPLVWAICPRGFGWIDDNWTEVAHCVCDIVAKSCYGFALARFRKTYDEELFRLLEQLGHDEDEFQKLELDMRLSSNGERLEVLFQ', 'pdbx_strand_id': 'A', 'rcsb_artifact_monomer_count': 0, 'rcsb_conflict_count': 0, 'rcsb_deletion_count': 0, 'rcsb_entity_polymer_type': 'Protein', 'rcsb_insertion_count': 0, 'rcsb_mutation_count': 0, 'rcsb_non_std_monomer_count': 0, 'rcsb_sample_sequence_length': 312, 'type': 'polypeptide(L)'}.......\n",
      "entity_src_gen: [{'pdbx_alt_source_flag': 'sample', 'pdbx_beg_seq_num': 1, 'pdbx_end_seq_num': 312, 'pdbx_gene_src_ncbi_taxonomy_id': '354590', 'pdbx_gene_src_scientific_name': 'Rhodomonas lens', 'pdbx_host_org_ncbi_taxonomy_id': '7108', 'pdbx_host_org_scientific_name': 'Spodoptera frugiperda', 'pdbx_seq_type': 'Biological sequence', 'pdbx_src_id': 1}].......\n",
      "rcsb_cluster_membership: [{'cluster_id': 28711, 'identity': 100}, {'cluster_id': 38661, 'identity': 95}, {'cluster_id': 42842, 'identity': 90}, {'cluster_id': 61406, 'identity': 70}, {'cluster_id': 58976, 'identity': 50}, {'cluster_id': 30323, 'identity': 30}].......\n",
      "rcsb_entity_host_organism: [{'beg_seq_num': 1, 'end_seq_num': 312, 'ncbi_common_names': ['fall armyworm'], 'ncbi_parent_scientific_name': 'Eukaryota', 'ncbi_scientific_name': 'Spodoptera frugiperda', 'ncbi_taxonomy_id': 7108, 'pdbx_src_id': 1, 'provenance_source': 'Primary Data', 'scientific_name': 'Spodoptera frugiperda', 'taxonomy_lineage': [{'depth': 1, 'id': '131567', 'name': 'cellular organisms'}, {'depth': 1, 'id': '131567', 'name': 'biota'}, {'depth': 2, 'id': '2759', 'name': 'Eukaryota'}, {'depth': 2, 'id': '2759', 'name': 'Eucarya'}, {'depth': 2, 'id': '2759', 'name': 'Eucaryotae'}, {'depth': 2, 'id': '2759', 'name': 'Eukarya'}, {'depth': 2, 'id': '2759', 'name': 'Eukaryotae'}, {'depth': 2, 'id': '2759', 'name': 'eukaryotes'}, {'depth': 3, 'id': '33154', 'name': 'Opisthokonta'}, {'depth': 3, 'id': '33154', 'name': 'Fungi/Metazoa group'}, {'depth': 3, 'id': '33154', 'name': 'opisthokonts'}, {'depth': 4, 'id': '33208', 'name': 'Metazoa'}, {'depth': 4, 'id': '33208', 'name': 'Animalia'}, {'depth': 4, 'id': '33208', 'name': 'animals'}, {'depth': 4, 'id': '33208', 'name': 'metazoans'}, {'depth': 4, 'id': '33208', 'name': 'multicellular animals'}, {'depth': 5, 'id': '6072', 'name': 'Eumetazoa'}, {'depth': 6, 'id': '33213', 'name': 'Bilateria'}, {'depth': 7, 'id': '33317', 'name': 'Protostomia'}, {'depth': 8, 'id': '1206794', 'name': 'Ecdysozoa'}, {'depth': 9, 'id': '88770', 'name': 'Panarthropoda'}, {'depth': 10, 'id': '6656', 'name': 'Arthropoda'}, {'depth': 10, 'id': '6656', 'name': 'arthropods'}, {'depth': 11, 'id': '197563', 'name': 'Mandibulata'}, {'depth': 11, 'id': '197563', 'name': 'mandibulates'}, {'depth': 12, 'id': '197562', 'name': 'Pancrustacea'}, {'depth': 13, 'id': '6960', 'name': 'Hexapoda'}, {'depth': 13, 'id': '6960', 'name': 'hexapods'}, {'depth': 14, 'id': '50557', 'name': 'Insecta'}, {'depth': 14, 'id': '50557', 'name': 'insects'}, {'depth': 14, 'id': '50557', 'name': 'true insects'}, {'depth': 15, 'id': '85512', 'name': 'Dicondylia'}, {'depth': 16, 'id': '7496', 'name': 'Pterygota'}, {'depth': 16, 'id': '7496', 'name': 'winged insects'}, {'depth': 17, 'id': '33340', 'name': 'Neoptera'}, {'depth': 18, 'id': '33392', 'name': 'Endopterygota'}, {'depth': 18, 'id': '33392', 'name': 'Holometabola'}, {'depth': 19, 'id': '85604', 'name': 'Amphiesmenoptera'}, {'depth': 20, 'id': '7088', 'name': 'Lepidoptera'}, {'depth': 20, 'id': '7088', 'name': 'moths & butterflies'}, {'depth': 21, 'id': '41191', 'name': 'Glossata'}, {'depth': 22, 'id': '41196', 'name': 'Neolepidoptera'}, {'depth': 23, 'id': '41197', 'name': 'Heteroneura'}, {'depth': 24, 'id': '37567', 'name': 'Ditrysia'}, {'depth': 25, 'id': '104431', 'name': 'Obtectomera'}, {'depth': 26, 'id': '37570', 'name': 'Noctuoidea'}, {'depth': 27, 'id': '7100', 'name': 'Noctuidae'}, {'depth': 27, 'id': '7100', 'name': 'noctuid moths'}, {'depth': 27, 'id': '7100', 'name': 'owlet moths'}, {'depth': 28, 'id': '95182', 'name': 'Amphipyrinae'}, {'depth': 29, 'id': '7106', 'name': 'Spodoptera'}, {'depth': 30, 'id': '7108', 'name': 'Spodoptera frugiperda'}, {'depth': 30, 'id': '7108', 'name': 'fall armyworm'}]}].......\n",
      "rcsb_entity_source_organism: [{'beg_seq_num': 1, 'end_seq_num': 312, 'ncbi_parent_scientific_name': 'Eukaryota', 'ncbi_scientific_name': 'Rhodomonas lens', 'ncbi_taxonomy_id': 354590, 'pdbx_src_id': 1, 'provenance_source': 'Primary Data', 'scientific_name': 'Rhodomonas lens', 'source_type': 'genetically engineered', 'taxonomy_lineage': [{'depth': 1, 'id': '131567', 'name': 'cellular organisms'}, {'depth': 1, 'id': '131567', 'name': 'biota'}, {'depth': 2, 'id': '2759', 'name': 'Eukaryota'}, {'depth': 2, 'id': '2759', 'name': 'Eucarya'}, {'depth': 2, 'id': '2759', 'name': 'Eucaryotae'}, {'depth': 2, 'id': '2759', 'name': 'Eukarya'}, {'depth': 2, 'id': '2759', 'name': 'Eukaryotae'}, {'depth': 2, 'id': '2759', 'name': 'eukaryotes'}, {'depth': 3, 'id': '3027', 'name': 'Cryptophyceae'}, {'depth': 3, 'id': '3027', 'name': 'Cryptomonadida'}, {'depth': 3, 'id': '3027', 'name': 'Cryptophyta'}, {'depth': 3, 'id': '3027', 'name': 'cryptomonads'}, {'depth': 3, 'id': '3027', 'name': 'cryptophytes'}, {'depth': 4, 'id': '589342', 'name': 'Pyrenomonadales'}, {'depth': 5, 'id': '589344', 'name': 'Pyrenomonadaceae'}, {'depth': 6, 'id': '37096', 'name': 'Rhodomonas'}, {'depth': 7, 'id': '354590', 'name': 'Rhodomonas lens'}]}].......\n",
      "rcsb_polymer_entity: {'formula_weight': 35.773, 'pdbx_description': 'ChRmine', 'pdbx_number_of_molecules': 1, 'rcsb_multiple_source_flag': 'N', 'rcsb_source_part_count': 1, 'rcsb_source_taxonomy_count': 1, 'src_method': 'man', 'rcsb_macromolecular_names_combined': [{'name': 'ChRmine', 'provenance_code': 'ECO:0000304', 'provenance_source': 'PDB Preferred Name'}], 'rcsb_polymer_name_combined': {'names': ['Chrmine'], 'provenance_source': 'PDB Preferred Name'}}.......\n",
      "rcsb_polymer_entity_container_identifiers: {'asym_ids': ['A'], 'auth_asym_ids': ['A'], 'chem_comp_monomers': ['ALA', 'ARG', 'ASN', 'ASP', 'CYS', 'GLN', 'GLU', 'GLY', 'HIS', 'ILE', 'LEU', 'LYS', 'MET', 'PHE', 'PRO', 'SER', 'THR', 'TRP', 'TYR', 'VAL'], 'entity_id': '1', 'entry_id': '7W9W', 'rcsb_id': '7W9W_1'}.......\n",
      "rcsb_polymer_entity_feature: [{'name': 'Hydropathy values', 'provenance_source': 'biojava-7.2.2', 'type': 'hydropathy', 'feature_positions': [{'beg_seq_id': 5, 'values': [-0.27, -0.61, -0.82, -0.82, -0.71, -0.5, -0.23, -0.1, -0.13, 0.16, 0.16, 0.5, 0.19, -0.27, 0.3, -0.56, -0.59, -0.94, -0.73, -0.73, -0.78, -0.21, 0.13, 0.21, 0.56, 0.83, 0.91, 0.39, 0.69, 1.06, 0.9, 1.2, 1.17, 1.63, 1.36, 2.21, 2.23, 2.24, 2.28, 1.82, 1.74, 1.23, 0.67, 0.36, -0.23, -0.26, -0.26, -0.66, -1.01, -1.48, -1.61, -1.56, -1.6, -2.01, -1.99, -2.0, -1.6, -1.24, -1.0, -0.87, -0.92, -0.88, -0.77, -1.08, -1.38, -2.08, -1.51, -1.51, -1.04, -0.59, 0.27, 0.27, 0.97, 1.67, 2.26, 2.04, 2.27, 1.76, 1.3, 1.14, 1.49, 0.74, 0.93, 1.2, 1.19, 0.38, 0.39, 0.96, 0.6, 0.29, 0.33, 0.14, -0.37, -0.96, -0.1, -0.07, -0.67, -0.31, 0.54, 1.43, 1.08, 1.43, 1.78, 0.92, 0.82, 0.5, 0.04, -0.26, -1.14, -1.24, -1.34, -0.88, -0.57, -0.14, 0.18, 0.53, 0.76, 1.61, 1.61, 1.01, 1.01, 1.51, 1.09, 0.88, 1.09, 0.17, -0.1, -0.13, 0.11, -0.81, -0.77, -0.71, -0.04, -0.56, 0.14, 0.44, 1.12, 1.58, 2.28, 2.31, 2.82, 2.76, 2.76, 2.51, 2.48, 2.4, 2.29, 1.7, 1.51, 0.94, 0.93, 0.63, 0.63, -0.22, -0.82, -1.52, -0.71, -1.52, -1.77, -2.01, -1.42, -1.52, -0.93, -0.86, -0.5, -0.97, -0.16, 0.19, 0.51, 0.62, 0.67, 0.78, 1.38, 1.83, 2.08, 1.62, 1.58, 1.8, 1.96, 2.27, 1.87, 1.87, 2.02, 2.02, 1.73, 1.43, 0.79, 0.23, -0.48, 0.03, -0.27, -1.12, -0.9, -0.27, -0.27, -0.51, -0.5, -0.04, -0.27, -0.86, -0.82, -1.33, -1.11, -1.08, -0.22, 0.28, -0.11, 0.0, 0.59, 1.41, 1.81, 1.31, 1.98, 1.42, 1.21, 2.07, 1.66, 1.96, 1.91, 1.91, 1.81, 1.92, 2.48, 2.17, 1.94, 2.54, 2.32, 1.72, 0.91, 1.04, 0.93, 0.42, 0.42, 0.72, -0.17, -0.83, -1.04, -0.64, -0.68, -1.38, -0.87, -0.57, -1.42, -0.76, 0.1, 0.77, 0.48, 1.06, 1.91, 1.64, 1.01, 1.28, 1.28, 0.67, 0.34, 1.04, 0.74, 0.7, 0.7, 0.63, 1.03, 0.26, -0.03, -0.07, -0.52, -1.11, -1.92, -2.51, -1.59, -1.59, -1.59, -0.73, -0.23, -0.48, -0.48, 0.33, 0.68, -0.1, -0.8, -0.69, -1.5, -2.31, -1.61, -1.61, -2.47, -2.0, -2.03, -1.22, -1.22, -0.62, -0.73, -0.62, -0.32, 0.02, -0.79, -0.44, -1.26, -1.37, -1.16, -1.04, -1.0, -0.49, -0.09, -0.09]}]}, {'name': 'Disordered regions', 'provenance_source': 'IUPred2(short)', 'type': 'disorder', 'feature_positions': [{'beg_seq_id': 1, 'values': [0.95, 0.9, 0.8, 0.68, 0.58, 0.53, 0.48, 0.38, 0.35, 0.3, 0.19, 0.12, 0.06, 0.08, 0.1, 0.1, 0.07, 0.06, 0.06, 0.04, 0.03, 0.01, 0.02, 0.02, 0.04, 0.03, 0.03, 0.02, 0.02, 0.01, 0.01, 0.01, 0.01, 0.01, 0.01, 0.01, 0.01, 0.01, 0.0, 0.0, 0.0, 0.01, 0.01, 0.0, 0.01, 0.01, 0.01, 0.01, 0.02, 0.04, 0.05, 0.08, 0.13, 0.12, 0.11, 0.07, 0.05, 0.09, 0.09, 0.14, 0.15, 0.25, 0.25, 0.26, 0.27, 0.23, 0.17, 0.12, 0.08, 0.07, 0.04, 0.02, 0.02, 0.01, 0.01, 0.01, 0.01, 0.01, 0.01, 0.01, 0.01, 0.0, 0.0, 0.0, 0.0, 0.0, 0.0, 0.0, 0.01, 0.0, 0.0, 0.01, 0.01, 0.01, 0.01, 0.01, 0.01, 0.01, 0.01, 0.01, 0.01, 0.01, 0.01, 0.01, 0.01, 0.0, 0.01, 0.01, 0.0, 0.0, 0.01, 0.0, 0.0, 0.0, 0.0, 0.0, 0.0, 0.0, 0.0, 0.0, 0.0, 0.0, 0.0, 0.0, 0.0, 0.0, 0.0, 0.0, 0.0, 0.0, 0.0, 0.0, 0.0, 0.0, 0.0, 0.0, 0.0, 0.0, 0.0, 0.0, 0.0, 0.0, 0.0, 0.0, 0.0, 0.0, 0.0, 0.0, 0.0, 0.0, 0.0, 0.0, 0.0, 0.0, 0.0, 0.0, 0.01, 0.01, 0.01, 0.01, 0.01, 0.01, 0.0, 0.01, 0.01, 0.01, 0.01, 0.01, 0.01, 0.0, 0.0, 0.0, 0.0, 0.0, 0.0, 0.0, 0.0, 0.0, 0.0, 0.0, 0.0, 0.0, 0.0, 0.0, 0.0, 0.0, 0.0, 0.0, 0.0, 0.0, 0.0, 0.0, 0.0, 0.01, 0.01, 0.01, 0.01, 0.03, 0.04, 0.04, 0.03, 0.05, 0.04, 0.02, 0.02, 0.02, 0.02, 0.01, 0.01, 0.01, 0.01, 0.01, 0.01, 0.01, 0.0, 0.0, 0.0, 0.0, 0.0, 0.0, 0.0, 0.0, 0.0, 0.0, 0.0, 0.0, 0.0, 0.0, 0.0, 0.0, 0.0, 0.0, 0.0, 0.0, 0.0, 0.0, 0.0, 0.01, 0.01, 0.01, 0.01, 0.01, 0.01, 0.0, 0.01, 0.01, 0.0, 0.0, 0.0, 0.01, 0.0, 0.0, 0.01, 0.0, 0.0, 0.0, 0.0, 0.0, 0.0, 0.0, 0.0, 0.0, 0.0, 0.01, 0.02, 0.02, 0.02, 0.01, 0.02, 0.01, 0.01, 0.02, 0.04, 0.02, 0.04, 0.04, 0.08, 0.11, 0.12, 0.21, 0.15, 0.17, 0.17, 0.17, 0.17, 0.11, 0.11, 0.15, 0.2, 0.14, 0.21, 0.3, 0.29, 0.29, 0.39, 0.37, 0.31, 0.32, 0.26, 0.2, 0.13, 0.22, 0.25, 0.3, 0.43, 0.46, 0.58, 0.6, 0.67, 0.73, 0.85, 0.87]}]}, {'name': 'Disordered binding sites', 'provenance_source': 'Anchor2', 'type': 'disorder_binding', 'feature_positions': [{'beg_seq_id': 1, 'values': [0.02, 0.02, 0.02, 0.02, 0.02, 0.02, 0.02, 0.03, 0.03, 0.03, 0.03, 0.03, 0.03, 0.03, 0.04, 0.04, 0.05, 0.05, 0.06, 0.07, 0.08, 0.08, 0.09, 0.1, 0.1, 0.1, 0.11, 0.12, 0.13, 0.14, 0.15, 0.15, 0.16, 0.16, 0.17, 0.18, 0.17, 0.16, 0.15, 0.13, 0.1, 0.08, 0.06, 0.05, 0.04, 0.04, 0.03, 0.03, 0.02, 0.02, 0.02, 0.02, 0.03, 0.03, 0.03, 0.03, 0.03, 0.03, 0.03, 0.02, 0.02, 0.02, 0.02, 0.02, 0.02, 0.02, 0.02, 0.02, 0.02, 0.03, 0.03, 0.03, 0.02, 0.02, 0.02, 0.01, 0.01, 0.01, 0.01, 0.01, 0.01, 0.01, 0.01, 0.01, 0.01, 0.01, 0.01, 0.01, 0.01, 0.01, 0.01, 0.01, 0.01, 0.01, 0.01, 0.01, 0.01, 0.01, 0.01, 0.0, 0.0, 0.0, 0.0, 0.0, 0.0, 0.0, 0.0, 0.0, 0.0, 0.0, 0.0, 0.0, 0.0, 0.0, 0.0, 0.0, 0.0, 0.0, 0.0, 0.0, 0.0, 0.0, 0.0, 0.0, 0.0, 0.0, 0.0, 0.0, 0.0, 0.0, 0.0, 0.0, 0.0, 0.0, 0.0, 0.0, 0.0, 0.0, 0.0, 0.0, 0.0, 0.0, 0.0, 0.0, 0.0, 0.0, 0.0, 0.0, 0.0, 0.0, 0.0, 0.0, 0.0, 0.0, 0.0, 0.0, 0.0, 0.0, 0.0, 0.0, 0.0, 0.0, 0.0, 0.0, 0.0, 0.0, 0.0, 0.0, 0.0, 0.0, 0.0, 0.0, 0.0, 0.0, 0.0, 0.0, 0.0, 0.0, 0.0, 0.0, 0.0, 0.0, 0.0, 0.0, 0.0, 0.0, 0.0, 0.0, 0.0, 0.0, 0.0, 0.0, 0.0, 0.0, 0.0, 0.0, 0.0, 0.0, 0.0, 0.0, 0.0, 0.0, 0.0, 0.0, 0.0, 0.0, 0.0, 0.0, 0.0, 0.0, 0.0, 0.0, 0.0, 0.0, 0.0, 0.0, 0.0, 0.0, 0.0, 0.0, 0.0, 0.0, 0.0, 0.0, 0.0, 0.0, 0.0, 0.0, 0.0, 0.0, 0.0, 0.01, 0.01, 0.01, 0.01, 0.01, 0.01, 0.01, 0.01, 0.02, 0.02, 0.02, 0.02, 0.02, 0.02, 0.02, 0.01, 0.01, 0.01, 0.01, 0.01, 0.0, 0.0, 0.0, 0.0, 0.0, 0.0, 0.0, 0.01, 0.01, 0.01, 0.01, 0.01, 0.01, 0.01, 0.02, 0.02, 0.02, 0.02, 0.03, 0.03, 0.04, 0.04, 0.05, 0.06, 0.07, 0.07, 0.08, 0.09, 0.09, 0.1, 0.1, 0.1, 0.1, 0.09, 0.09, 0.09, 0.09, 0.09, 0.09, 0.09, 0.09, 0.09, 0.1, 0.11, 0.12, 0.13, 0.14, 0.14, 0.16, 0.18, 0.19, 0.21, 0.23, 0.24, 0.25, 0.28, 0.3, 0.31, 0.34, 0.36, 0.36]}]}].......\n",
      "rcsb_polymer_entity_group_membership: [{'aggregation_method': 'sequence_identity', 'group_id': '61406_70', 'similarity_cutoff': 70.0, 'aligned_regions': [{'entity_beg_seq_id': 1, 'length': 312, 'ref_beg_seq_id': 1}]}, {'aggregation_method': 'sequence_identity', 'group_id': '30323_30', 'similarity_cutoff': 30.0, 'aligned_regions': [{'entity_beg_seq_id': 1, 'length': 26, 'ref_beg_seq_id': 25}, {'entity_beg_seq_id': 27, 'length': 286, 'ref_beg_seq_id': 56}]}, {'aggregation_method': 'sequence_identity', 'group_id': '38661_95', 'similarity_cutoff': 95.0, 'aligned_regions': [{'entity_beg_seq_id': 1, 'length': 312, 'ref_beg_seq_id': 1}]}, {'aggregation_method': 'sequence_identity', 'group_id': '58976_50', 'similarity_cutoff': 50.0, 'aligned_regions': [{'entity_beg_seq_id': 1, 'length': 312, 'ref_beg_seq_id': 1}]}, {'aggregation_method': 'sequence_identity', 'group_id': '28711_100', 'similarity_cutoff': 100.0, 'aligned_regions': [{'entity_beg_seq_id': 1, 'length': 312, 'ref_beg_seq_id': 1}]}, {'aggregation_method': 'sequence_identity', 'group_id': '42842_90', 'similarity_cutoff': 90.0, 'aligned_regions': [{'entity_beg_seq_id': 1, 'length': 312, 'ref_beg_seq_id': 1}]}].......\n",
      "rcsb_id: 7W9W_1.......\n",
      "\n",
      " Let's focus on pdbx_seq_one_letter_code:\n",
      "Sequence information: GPMAHAPGTDQMFYVGTMDGWYLDTKLNSVAIGAHWSCFIVL...\n"
     ]
    }
   ],
   "source": [
    "# The identifier is the same as before\n",
    "identifier = result.json()['result_set'][0]['identifier']\n",
    "print (\"RCSB protein id: \" + identifier)\n",
    "# Let's get the sequence information\n",
    "seq_data = requests.get(f'https://data.rcsb.org/rest/v1/core/polymer_entity/{identifier}/1').json()\n",
    "for labels in seq_data:\n",
    "  print(str(labels) + \": \" + str(seq_data[labels]) + \".......\")\n",
    "# Let's take only the information that we need\n",
    "print('\\n Let\\'s focus on pdbx_seq_one_letter_code:')\n",
    "print(\"Sequence information: \" +  seq_data['entity_poly']['pdbx_seq_one_letter_code'][:42] + \"...\")"
   ]
  },
  {
   "cell_type": "code",
   "execution_count": 12,
   "metadata": {
    "colab": {
     "base_uri": "https://localhost:8080/"
    },
    "executionInfo": {
     "elapsed": 296,
     "status": "ok",
     "timestamp": 1729838433457,
     "user": {
      "displayName": "Marco Prenassi",
      "userId": "16053845400152448829"
     },
     "user_tz": -120
    },
    "id": "En96KpFrrrNE",
    "outputId": "39373dd7-e67e-4ecb-cf85-22ba6bea4dde"
   },
   "outputs": [
    {
     "name": "stdout",
     "output_type": "stream",
     "text": [
      "GPMAHAPGTDQMFYVGTMDGWYLDTKLNSVAIGAHWSCFIVLTITTFYLGYESWTSRGPSKRTSFYAGYQEEQNLALFVNFFAMLSYFGKIVADTLGHNFGDVGPFIIGFGNYRYADYMLTCPMLVYDLLYQLRAPYRVSCSAIIFAILMSGVLAEFYAEGDPRLRNGAYAWYGFGCFWFIFAYSIVMSIVAKQYSRLAQLAQDTGAEHSLHVLKFAVFTFSMLWILFPLVWAICPRGFGWIDDNWTEVAHCVCDIVAKSCYGFALARFRKTYDEELFRLLEQLGHDEDEFQKLELDMRLSSNGERLEVLFQ\n"
     ]
    }
   ],
   "source": [
    "# full view, useful to copy paste!\n",
    "print(seq_data['entity_poly']['pdbx_seq_one_letter_code'])"
   ]
  },
  {
   "cell_type": "markdown",
   "metadata": {
    "id": "jk_7B2XqucS7"
   },
   "source": [
    "### BLAST REQUEST\n",
    "*Let's make a request to Blast, specifically to tblastn, a NIH tool that finds regions of similarity between biological sequences. The program tblastn compares protein sequences to nucleotide sequence databases and calculates the statistical significance.*\n",
    "https://blast.ncbi.nlm.nih.gov/Blast.cgi"
   ]
  },
  {
   "cell_type": "code",
   "execution_count": 13,
   "metadata": {
    "colab": {
     "base_uri": "https://localhost:8080/"
    },
    "executionInfo": {
     "elapsed": 4932,
     "status": "ok",
     "timestamp": 1729838441591,
     "user": {
      "displayName": "Marco Prenassi",
      "userId": "16053845400152448829"
     },
     "user_tz": -120
    },
    "id": "RK2LoOwaf7ZP",
    "outputId": "0b578f54-eca5-4902-f5c8-a9cd1e22c015"
   },
   "outputs": [
    {
     "name": "stdout",
     "output_type": "stream",
     "text": [
      "Collecting biopython\n",
      "  Downloading biopython-1.85-cp313-cp313-macosx_11_0_arm64.whl.metadata (13 kB)\n",
      "Requirement already satisfied: numpy in /Users/marcoprenassi/dev/advanced_python_lectures/lectures-env/lib/python3.13/site-packages (from biopython) (2.3.4)\n",
      "Downloading biopython-1.85-cp313-cp313-macosx_11_0_arm64.whl (2.8 MB)\n",
      "\u001b[2K   \u001b[90m━━━━━━━━━━━━━━━━━━━━━━━━━━━━━━━━━━━━━━━━\u001b[0m \u001b[32m2.8/2.8 MB\u001b[0m \u001b[31m7.9 MB/s\u001b[0m  \u001b[33m0:00:00\u001b[0m eta \u001b[36m0:00:01\u001b[0m\n",
      "\u001b[?25hInstalling collected packages: biopython\n",
      "Successfully installed biopython-1.85\n"
     ]
    }
   ],
   "source": [
    "# The requests in blast are a tad more complex,\n",
    "# We are going to use the module biopython, that has already the function to deal with them\n",
    "# (RCSB has similar modules too!)\n",
    "!pip install biopython\n"
   ]
  },
  {
   "cell_type": "code",
   "execution_count": 14,
   "metadata": {
    "colab": {
     "base_uri": "https://localhost:8080/",
     "height": 474
    },
    "executionInfo": {
     "elapsed": 12655,
     "status": "error",
     "timestamp": 1729839522028,
     "user": {
      "displayName": "Marco Prenassi",
      "userId": "16053845400152448829"
     },
     "user_tz": -120
    },
    "id": "M2E06Qxj3w4T",
    "outputId": "775039ec-8494-4134-8a6f-41187d5133b2"
   },
   "outputs": [],
   "source": [
    "# Let's make our request\n",
    "from Bio import Blast\n",
    "# We select the program tblastn, the databank of Expressed Sequence Tags and we put our sequence data.\n",
    "result_stream = Blast.qblast(\"tblastn\", \"est\", seq_data['entity_poly']['pdbx_seq_one_letter_code'])\n",
    "# and then we wait a bit (could be even up to 1 or 2 minutes)"
   ]
  },
  {
   "cell_type": "code",
   "execution_count": null,
   "metadata": {
    "colab": {
     "base_uri": "https://localhost:8080/",
     "height": 228
    },
    "executionInfo": {
     "elapsed": 303,
     "status": "error",
     "timestamp": 1729839537017,
     "user": {
      "displayName": "Marco Prenassi",
      "userId": "16053845400152448829"
     },
     "user_tz": -120
    },
    "id": "4pHmoTMt4weH",
    "outputId": "42d59106-9f57-4ff7-eb60-3f71457a971a"
   },
   "outputs": [
    {
     "ename": "NameError",
     "evalue": "name 'result_stream' is not defined",
     "output_type": "error",
     "traceback": [
      "\u001b[0;31m---------------------------------------------------------------------------\u001b[0m",
      "\u001b[0;31mNameError\u001b[0m                                 Traceback (most recent call last)",
      "\u001b[0;32m<ipython-input-17-7e70a9f659af>\u001b[0m in \u001b[0;36m<cell line: 2>\u001b[0;34m()\u001b[0m\n\u001b[1;32m      1\u001b[0m \u001b[0;31m# We read the stream\u001b[0m\u001b[0;34m\u001b[0m\u001b[0;34m\u001b[0m\u001b[0m\n\u001b[0;32m----> 2\u001b[0;31m \u001b[0mres\u001b[0m \u001b[0;34m=\u001b[0m \u001b[0mresult_stream\u001b[0m\u001b[0;34m.\u001b[0m\u001b[0mread\u001b[0m\u001b[0;34m(\u001b[0m\u001b[0;34m)\u001b[0m\u001b[0;34m\u001b[0m\u001b[0;34m\u001b[0m\u001b[0m\n\u001b[0m\u001b[1;32m      3\u001b[0m \u001b[0mprint\u001b[0m\u001b[0;34m(\u001b[0m\u001b[0mres\u001b[0m\u001b[0;34m[\u001b[0m\u001b[0;34m:\u001b[0m\u001b[0;36m150\u001b[0m\u001b[0;34m]\u001b[0m\u001b[0;34m)\u001b[0m\u001b[0;34m\u001b[0m\u001b[0;34m\u001b[0m\u001b[0m\n\u001b[1;32m      4\u001b[0m \u001b[0;34m\u001b[0m\u001b[0m\n\u001b[1;32m      5\u001b[0m \u001b[0;31m# BEWARE, when you read the stream and then close it, it disappear (it's a stream, after all) and you have to start over from the last block (redo the request)\u001b[0m\u001b[0;34m\u001b[0m\u001b[0;34m\u001b[0m\u001b[0m\n",
      "\u001b[0;31mNameError\u001b[0m: name 'result_stream' is not defined"
     ]
    }
   ],
   "source": [
    "# We read the stream\n",
    "res = result_stream.read()\n",
    "print(res[:150])\n",
    "\n",
    "# BEWARE, when you read the stream and then close it, it disappear (it's a stream, after all) and you have to start over from the last block (redo the request)\n",
    "with open(\"blast.xml\", \"wb\") as fp:\n",
    "  fp.write(res)\n",
    "# Let's read something!\n"
   ]
  },
  {
   "cell_type": "markdown",
   "metadata": {
    "id": "T0JeST1mv-ef"
   },
   "source": [
    "### READ THE RESULTS\n"
   ]
  },
  {
   "cell_type": "code",
   "execution_count": null,
   "metadata": {
    "colab": {
     "base_uri": "https://localhost:8080/"
    },
    "executionInfo": {
     "elapsed": 3595,
     "status": "ok",
     "timestamp": 1729839555608,
     "user": {
      "displayName": "Marco Prenassi",
      "userId": "16053845400152448829"
     },
     "user_tz": -120
    },
    "id": "sskUSH6ag2Fx",
    "outputId": "91493550-6c0c-43b3-dc47-03349bdc5228"
   },
   "outputs": [
    {
     "name": "stdout",
     "output_type": "stream",
     "text": [
      "Requirement already satisfied: xmltodict in /usr/local/lib/python3.10/dist-packages (0.14.2)\n"
     ]
    }
   ],
   "source": [
    "# We requested the results as the default type which is an XML document, we need a specific module to read them\n",
    "!pip install xmltodict\n"
   ]
  },
  {
   "cell_type": "code",
   "execution_count": null,
   "metadata": {
    "id": "lMHDDhrA573d"
   },
   "outputs": [],
   "source": [
    "import xmltodict\n",
    "# Let's open the file\n",
    "with open(\"blast.xml\", \"r\") as fp:\n",
    "    blast_res = fp.read()\n",
    "blast_results = xmltodict.parse(blast_res)\n"
   ]
  },
  {
   "cell_type": "code",
   "execution_count": null,
   "metadata": {
    "colab": {
     "base_uri": "https://localhost:8080/"
    },
    "executionInfo": {
     "elapsed": 274,
     "status": "ok",
     "timestamp": 1729769168697,
     "user": {
      "displayName": "Marco Prenassi",
      "userId": "16053845400152448829"
     },
     "user_tz": -120
    },
    "id": "nORlSiTy2oVH",
    "outputId": "f7600dca-66be-4158-fd9f-a47a59acf80b"
   },
   "outputs": [
    {
     "name": "stdout",
     "output_type": "stream",
     "text": [
      "1: HE989719 Guillardia theta CCMP 327 Guillardia theta cDNA clone GT50c04, mRNA sequence\n",
      "QSEQ:\t\tNSVAIGAHWSCFIVLTITTFYLGYESWTSRGPSKRTSFYAGYQEEQNLALFVNFFAMLSYFGKIVADTLGHNFGDVGPFIIGFGNYRYADYMLTCPMLVYDLLYQLRAPYRVSCSAIIFAILMSGVLAEFYAEGDPRLRNGAYAWYGFGCFWFIFAYSIVMSIVAKQYSRLAQLAQDTGAEHSLHVLKFAVFTFSMLWILFPLVWAICPRGFGWIDDNWTEVAHCVCDIVAKSCY \n",
      "HSEQ:\t\tNPIVIAADWIGFIALFGSSLAVAYKLVTFKGPDQGDVYFFGYREEKMISVFVNLFAALAYWAKLAS----HANGDVGP-AASVTTYKYLDYLFTCPLLTIDLLWCLNLPYKFTFGAIVAVCILCAFMASVI---PPPAR---YMWFGMGITVFSTAWFNILKLVRM---RLEQFVSKEAKEVR-QSLKVACMTYFFIWLGYPTLWVLGDAGV--LDSVVSALLHTFLDVFSKSIY \n",
      "Midline:\tN + I A W  FI L  ++  + Y+  T +GP +   ++ GY+EE+ +++FVN FA L+Y+ K+ +    H  GDVGP       Y+Y DY+ TCP+L  DLL+ L  PY+ +  AI+   ++   +A       P  R   Y W+G G   F  A+  ++ +V     RL Q       E     LK A  T+  +W+ +P +W +   G   +D   + + H   D+ +KS Y \n"
     ]
    }
   ],
   "source": [
    "# Let's check the first result:\n",
    "first_result = blast_results['BlastOutput']['BlastOutput_iterations']['Iteration']['Iteration_hits']['Hit'][0]\n",
    "print(f\"{first_result['Hit_num']}: {first_result['Hit_def']}\")\n",
    "print(f\"QSEQ:\\t\\t{first_result['Hit_hsps']['Hsp']['Hsp_qseq']} \")\n",
    "print(f\"HSEQ:\\t\\t{first_result['Hit_hsps']['Hsp']['Hsp_hseq']} \")\n",
    "print(f\"Midline:\\t{first_result['Hit_hsps']['Hsp']['Hsp_midline']} \")"
   ]
  },
  {
   "cell_type": "markdown",
   "metadata": {
    "id": "muHO_Uwn-FnG"
   },
   "source": []
  },
  {
   "cell_type": "code",
   "execution_count": null,
   "metadata": {
    "id": "0Hy6t5qo9TqV"
   },
   "outputs": [],
   "source": []
  }
 ],
 "metadata": {
  "colab": {
   "authorship_tag": "ABX9TyOFyls7Fik3p23bMTJlumbG",
   "provenance": [
    {
     "file_id": "1OjTelzMu4bQ35Bvyqhn9JDm1iQmGaSRl",
     "timestamp": 1729769211587
    }
   ]
  },
  "kernelspec": {
   "display_name": "Advanced Python APIs",
   "language": "python",
   "name": "advanced-python-apis"
  },
  "language_info": {
   "codemirror_mode": {
    "name": "ipython",
    "version": 3
   },
   "file_extension": ".py",
   "mimetype": "text/x-python",
   "name": "python",
   "nbconvert_exporter": "python",
   "pygments_lexer": "ipython3",
   "version": "3.13.7"
  }
 },
 "nbformat": 4,
 "nbformat_minor": 0
}
