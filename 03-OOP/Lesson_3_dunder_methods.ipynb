{
 "cells": [
  {
   "cell_type": "markdown",
   "id": "bcdf2766",
   "metadata": {},
   "source": [
    "## DUNDER METHODS and \"OVERLOAD OPERATORS\" IN PYTHON\n",
    "\n",
    "In Python, classes can redefine the behavior of built-in operators and functions by implementing special methods (also called dunder methods, because they start and end with double underscores). A lot of these are \n",
    "\n",
    "BEWARE: in other programming languages overloading operators means that the compiler, at compile time, will rewrite the functionality of the \"+\" or \"*\" symbol, while in python everytime you see an operator, a magic function is called AT RUNTIME, that's why \"Operator Overload\", in my lessons, is always in quotation (if not, probably that's a typo).\n",
    "\n",
    "### Operator / Method Overloading\n",
    "\n",
    "Operator overloading allows objects of custom classes to behave like built-in types.\n",
    "For example:   \n",
    "\t__add__ → defines behavior for the + operator.   \n",
    "\t__str__ → defines how an object is converted to a string (used by print()).  \n",
    "\t__call__ → makes an instance callable like a function.  \n",
    "   \n",
    "In the example below, the Vec2D class uses:   \n",
    "\t__call__ → to compute and return the length of the vector.  \n",
    "\t__str__ → to define how the vector is printed (returning its length as text).  \n",
    "\n",
    "#### Type Checking with isinstance()\n",
    "\n",
    "The built-in function isinstance(obj, ClassName) checks whether an object is an instance of a given class (or a subclass).\n",
    "It is commonly used in constructors to validate input types, ensuring objects are created with the correct data structures.\n"
   ]
  },
  {
   "cell_type": "code",
   "execution_count": 25,
   "id": "15281fc6",
   "metadata": {},
   "outputs": [
    {
     "name": "stdout",
     "output_type": "stream",
     "text": [
      "It is a long vector\n"
     ]
    }
   ],
   "source": [
    "class Coord2D:\n",
    "    def __init__(self, x1, y1, x2, y2):\n",
    "        self.x1 = x1\n",
    "        self.x2 = x2\n",
    "        self.y1 = y1\n",
    "        self.y2 = y2\n",
    "    \n",
    "    def __str__(self):\n",
    "        return (f\"x1: {self.x1}, y1: {self.y1}, x2: {self.x2}, y2: {self.y2}\")\n",
    "\n",
    "\n",
    "class Vec2D:\n",
    "    points: Coord2D = None\n",
    "    def __init__(self, coord2D: Coord2D):\n",
    "        if isinstance(coord2D, Coord2D):\n",
    "            self.points = coord2D\n",
    "\n",
    "    def __call__(self):\n",
    "        return ((self.points.x2 - self.points.x1)**2 + (self.points.y2 -self.points.y1)**2)**0.5\n",
    "\n",
    "    def __str__(self):\n",
    "        return f\"{self()}\"\n",
    "\n",
    "coord2D = Coord2D(1,2,30,4)\n",
    "if Vec2D(coord2D)() > 3:\n",
    "    print(\"It is a long vector\")"
   ]
  },
  {
   "cell_type": "code",
   "execution_count": null,
   "id": "1500a370",
   "metadata": {},
   "outputs": [
    {
     "data": {
      "text/plain": [
       "__main__.Vec2D"
      ]
     },
     "execution_count": 23,
     "metadata": {},
     "output_type": "execute_result"
    }
   ],
   "source": [
    "coord2D = Coord2D(1,2,3,4)\n",
    "vec2D = Vec2D(coord2D)\n",
    "type(vec2D) == type(2.8)"
   ]
  },
  {
   "cell_type": "markdown",
   "id": "3488e30d",
   "metadata": {},
   "source": [
    "### Internal Methods and Naming Conventions\n",
    "\n",
    ">\"Keep out, or enter, I am a sign, not a cop\".   \n",
    ">-- \"The Wettest Stories Ever Told\", The Simpsons (Season 17, Episode 18)\n",
    "\n",
    "in python there are no real private methods, everything is accessible if you really want it.\n",
    "however, by convention, when we put a single underscore before a method name (like _length), we are saying:\n",
    "\n",
    "“this is for internal use, don’t touch it unless you know what you’re doing.”\n",
    "\n",
    "it’s not enforced, it’s just a warning sign for developers reading the code.\n",
    "the interpreter doesn’t care — but you should.\n",
    "\n",
    "that’s why in the next example you’ll see a method called _length():\n",
    "it’s an internal helper function, used by the class to do its math, not meant to be called directly.\n",
    "\n",
    "### Extending a Class and Overloading Operators\n",
    "\n",
    "the class Vec2D_Plus EXTENDS the previous Vec2D and adds two dunder methods:   \n",
    "__add__ → defines what happens when you use the + operator.   \n",
    "__gt__ → defines the behavior of the > operator\n",
    "\n",
    "For now, ignore the \"extension\", we will be touching that in the next jupyter notebooks (and slides).\n",
    "\n",
    "#### Type Hints\n",
    "In the function definitions you’ll also notice something like -> float or -> bool.\n",
    "that arrow doesn’t do anything at runtime — it’s just a type hint, a way to tell the reader (and static analyzers) what the function is supposed to return, in this case floats and bool.   \n",
    "At runtime, if you return something else, the system will not throw any errors.\n",
    "\n",
    "So, don’t confuse it with isinstance():   \n",
    "-> is just a hint, it doesn’t check anything.   \n",
    "isinstance() actually checks at runtime if something is of a given type.\n",
    "\n",
    "Remember, it is often better to make your IDE angry than your boss!\n",
    "\n",
    "\n",
    "\n"
   ]
  },
  {
   "cell_type": "code",
   "execution_count": null,
   "id": "d6f2014c",
   "metadata": {},
   "outputs": [
    {
     "name": "stdout",
     "output_type": "stream",
     "text": [
      "31.268883707497267\n",
      "V2 is longer than V1\n"
     ]
    }
   ],
   "source": [
    "class Vec2D_Plus(Vec2D):\n",
    "\n",
    "    def _length(self, coord2D: Coord2D)->float:\n",
    "        dx = coord2D.x2 - coord2D.x1\n",
    "        dy = coord2D.y2 - coord2D.y1\n",
    "        return (dx**2 + dy**2) ** 0.5\n",
    "    \n",
    "    def __add__(self, other)->float:\n",
    "        if isinstance(other, Vec2D_Plus):\n",
    "            return self._length(self.points) + other._length(other.points)\n",
    "        elif(isinstance(other, float)):\n",
    "            return self._length(self.points) + other\n",
    "        else:\n",
    "            return None\n",
    "\n",
    "    \n",
    "    def __gt__(self, other)->bool:\n",
    "        if self._length(self.points) > other._length(other.points):\n",
    "            return True\n",
    "        else:\n",
    "            return False\n",
    "    \n",
    "V1 = Vec2D_Plus(coord2D)\n",
    "V2 = Vec2D_Plus(Coord2D(1,2,1,2))\n",
    "\n",
    "print(V1+2.2)\n",
    "if V1>V2:\n",
    "    print(\"V1 is longer than V2\")\n",
    "else:\n",
    "    print(\"V2 is longer than V1\")"
   ]
  }
 ],
 "metadata": {
  "kernelspec": {
   "display_name": "Advanced Python 2025 NEW kernel",
   "language": "python",
   "name": "advanced-python-kernel"
  },
  "language_info": {
   "codemirror_mode": {
    "name": "ipython",
    "version": 3
   },
   "file_extension": ".py",
   "mimetype": "text/x-python",
   "name": "python",
   "nbconvert_exporter": "python",
   "pygments_lexer": "ipython3",
   "version": "3.13.7"
  }
 },
 "nbformat": 4,
 "nbformat_minor": 5
}
